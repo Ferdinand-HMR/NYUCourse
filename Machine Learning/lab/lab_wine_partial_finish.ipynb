{
 "cells": [
  {
   "cell_type": "markdown",
   "metadata": {},
   "source": [
    "# Lab:  Hyper-Parameter Optimization with PCA\n",
    "\n",
    "PCA is often applied as a pre-processing step with classifiers.  When using PCA in this manner, one must select the number of PC components to use along with parameters in classifier.  In this lab, we will demonstrate how to performing this *hyper-parameter optimization*.  In doing the lab, you will learn to:\n",
    "\n",
    "* Combine PCA with data scaling.\n",
    "* Compute and visualize PC components\n",
    "* Select the number of PCs with K-fold cross validation\n",
    "* Implement the multi-stage classifier pipeline in sklearn\n",
    "* Perform automatic parameter search using `GridSearchCV` in combination with a pipeline.\n",
    "\n",
    "We first download the basic packages."
   ]
  },
  {
   "cell_type": "code",
   "execution_count": 19,
   "metadata": {},
   "outputs": [],
   "source": [
    "import numpy as np\n",
    "import matplotlib\n",
    "import matplotlib.pyplot as plt"
   ]
  },
  {
   "cell_type": "markdown",
   "metadata": {},
   "source": [
    "## Downloading the Data\n",
    "\n",
    "We will use a very simple `wine` dataset, commonly used in teaching machine learning class.  The problem is to classify the type of red wine from features of the wine such as the `alchohol` and other chemical components.  There are three possible wine types."
   ]
  },
  {
   "cell_type": "code",
   "execution_count": 20,
   "metadata": {},
   "outputs": [
    {
     "name": "stdout",
     "output_type": "stream",
     "text": [
      "feature names: ['alcohol', 'malic_acid', 'ash', 'alcalinity_of_ash', 'magnesium', 'total_phenols', 'flavanoids', 'nonflavanoid_phenols', 'proanthocyanins', 'color_intensity', 'hue', 'od280/od315_of_diluted_wines', 'proline']\n",
      "target names: ['class_0' 'class_1' 'class_2']\n"
     ]
    }
   ],
   "source": [
    "from sklearn.datasets import load_wine\n",
    "from sklearn.model_selection import KFold\n",
    "data = load_wine()\n",
    "\n",
    "# TODO print the features names in data.feature_names and data.target_names\n",
    "print(\"feature names:\", data.feature_names)\n",
    "print(\"target names:\", data.target_names)"
   ]
  },
  {
   "cell_type": "markdown",
   "metadata": {},
   "source": [
    "Get the data matrix `X` from `data.data` and the target values `y` from `data.target`.  Print the number of samples, number of features and number of classes."
   ]
  },
  {
   "cell_type": "code",
   "execution_count": 21,
   "metadata": {},
   "outputs": [
    {
     "name": "stdout",
     "output_type": "stream",
     "text": [
      "number of samples  = 178\n",
      "number of features = 13\n",
      "number of classes  = 3\n"
     ]
    }
   ],
   "source": [
    "# TODO\n",
    "X = data.data\n",
    "y = data.target\n",
    "print(\"number of samples  = {}\".format(X.shape[0]))\n",
    "print(\"number of features = {}\".format(X.shape[1]))\n",
    "print(\"number of classes  = {}\".format(np.unique(y).shape[0]))"
   ]
  },
  {
   "cell_type": "markdown",
   "metadata": {},
   "source": [
    "## Perform PCA for Visualization\n",
    "\n",
    "Before performing PCA, you should scale the data matrix to remove the mean and normalize the variance of the different components.  For this purpose, create a `StandardScaling` object `scaling`.  Then `fit` the scaling with the entire data `X`.  Transform the data and let `Xs` be the scaled data."
   ]
  },
  {
   "cell_type": "code",
   "execution_count": 22,
   "metadata": {},
   "outputs": [],
   "source": [
    "from sklearn.preprocessing import StandardScaler\n",
    "\n",
    "# TODO\n",
    "scaling = StandardScaler()\n",
    "scaling.fit(X)\n",
    "Xs = scaling.transform(X)"
   ]
  },
  {
   "cell_type": "markdown",
   "metadata": {},
   "source": [
    "Now, fit a PCA on the scaled data matrix `Xs`.  You can use the `sklearn` `PCA` method.  In order that we can visualize the results set `n_components=2`.  Select `svd_solver='randomized'` and `whiten=True`.  Use the the `pca.transform` method to find, `Z`, the coefficients of `Xs` in the PCA basis."
   ]
  },
  {
   "cell_type": "code",
   "execution_count": 23,
   "metadata": {},
   "outputs": [],
   "source": [
    "from sklearn.decomposition import PCA\n",
    "\n",
    "# TODO\n",
    "ncomp = 2\n",
    "# Construct the PCA object\n",
    "pca = PCA(n_components = ncomp,svd_solver='randomized', whiten=True)\n",
    "pca.fit(Xs)\n",
    "Z = pca.transform(Xs)\n",
    "# print(Z)"
   ]
  },
  {
   "cell_type": "markdown",
   "metadata": {},
   "source": [
    "In the transformed basis, each data sample is represented by a two dimensional vector, `Z[i,0], Z[i,1]`.  Plot a scatter plot of the transformed data.  Use different marker colors for the different classes.  If you did everything, you should see that the classes are quite well separated with even two PCs."
   ]
  },
  {
   "cell_type": "code",
   "execution_count": 24,
   "metadata": {},
   "outputs": [
    {
     "data": {
      "image/png": "[encoded data removed]",
      "text/plain": [
       "<Figure size 432x288 with 1 Axes>"
      ]
     },
     "metadata": {},
     "output_type": "display_data"
    }
   ],
   "source": [
    "# TODO\n",
    "class0_index = np.where(y==0)[0]\n",
    "class1_index = np.where(y==1)[0]\n",
    "class2_index = np.where(y==2)[0]\n",
    "plt.plot(Z[class0_index,0],Z[class0_index,1],'ro')\n",
    "plt.plot(Z[class1_index,0],Z[class1_index,1],'bo')\n",
    "plt.plot(Z[class2_index,0],Z[class2_index,1],'go')\n",
    "plt.xlabel(\"Z vector dimension 0\")\n",
    "plt.ylabel(\"Z vector dimension 1\")\n",
    "plt.legend([\"class 0\", \"class 1\", \"class 2\"])\n",
    "plt.show()"
   ]
  },
  {
   "cell_type": "markdown",
   "metadata": {},
   "source": [
    "Now, refit the scaled data `Xs` using `n_components=nfeatures` where `nfeatures` is the number of features.  This is the maximum number of PCs.  Get the singular values from `pca.singular_values_` and plot the portion of variation as a function of the number of PCs.   The PoV for using `n` PCs is:\n",
    "\n",
    "    PoV[n]  = \\sum_{i=0}^{n-1}  s[i]**2 / \\sum_{i=0}^{d-1}  s[i]**2\n",
    "    \n",
    "where `s[i]` is the `i`-th singular value and `d` is the number of features.  You should see that the 4 PCs contains more than 70% of the variance."
   ]
  },
  {
   "cell_type": "code",
   "execution_count": 25,
   "metadata": {},
   "outputs": [
    {
     "data": {
      "image/png": "[encoded data removed]",
      "text/plain": [
       "<Figure size 432x288 with 1 Axes>"
      ]
     },
     "metadata": {},
     "output_type": "display_data"
    }
   ],
   "source": [
    "# TODO\n",
    "nfeatures = Xs.shape[1]\n",
    "pca = PCA(n_components = nfeatures,svd_solver='randomized', whiten=True) \n",
    "pca.fit(Xs)\n",
    "s = pca.singular_values_\n",
    "lam = s**2\n",
    "pov = np.cumsum(lam) / np.sum(lam)\n",
    "plt.plot(pov)\n",
    "plt.grid()\n",
    "plt.show()"
   ]
  },
  {
   "cell_type": "markdown",
   "metadata": {},
   "source": [
    "## Using PCA with Classification \n",
    "\n",
    "We will now use data scaling and PCA as a pre-processing step for logistic classification.  The number of PCs to use can be found with cross-validation.  Complete the code below which tries different number of PCs components to use and measures the test accuracy for each value."
   ]
  },
  {
   "cell_type": "code",
   "execution_count": 26,
   "metadata": {},
   "outputs": [],
   "source": [
    "from sklearn.preprocessing import StandardScaler\n",
    "from sklearn.linear_model import LogisticRegression\n",
    "nfold = 5\n",
    "\n",
    "# Create a K-fold object\n",
    "kf = KFold(n_splits=nfold)\n",
    "kf.get_n_splits(X)\n",
    "\n",
    "# Number of PCs to try\n",
    "ncomp_test = np.arange(2,12)\n",
    "num_nc = len(ncomp_test)\n",
    "\n",
    "# Accuracy:  acc[icomp,ifold]  is test accuracy when using `ncomp = ncomp_test[icomp]` in fold `ifold`.\n",
    "acc = np.zeros((num_nc,nfold))\n",
    "\n",
    "# Loop over number of components to test\n",
    "for icomp, ncomp in enumerate(ncomp_test):\n",
    "    \n",
    "    # Look over the folds\n",
    "    for ifold, I in enumerate(kf.split(X)):\n",
    "        Itr, Its = I\n",
    "        \n",
    "        # TODO:  Split data into training \n",
    "        Xtr = X[Itr,:]\n",
    "        Xts = X[Its,:]\n",
    "        ytr = y[Itr]\n",
    "        yts = y[Its]\n",
    "\n",
    "        # TODO:  Create a scaling object and fit the scaling on the training data\n",
    "        scaling = StandardScaler()\n",
    "        scaling.fit(Xtr) \n",
    "        Xtrs = scaling.transform(Xtr)\n",
    "        # TODO:  Fit the PCA on the scaled training data\n",
    "        pca = PCA(n_components =ncomp ,svd_solver='randomized', whiten=True) \n",
    "        pca.fit(Xtrs)\n",
    "        Ztr = pca.transform(Xtrs)\n",
    "        # TODO:  Train a classifier on the transformed training data\n",
    "        \n",
    "        # Use a logistic regression classifier\n",
    "        logreg = LogisticRegression(multi_class='auto', solver='lbfgs')\n",
    "        logreg.fit(Ztr, ytr)\n",
    "\n",
    "        # TODO:  Transform the test data through data scaler and PCA\n",
    "        Xtss = scaling.transform(Xts)\n",
    "        Zts = pca.transform(Xtss)\n",
    "        \n",
    "        # TODO:  Predict the labels the test data\n",
    "        yhat = logreg.predict(Zts)\n",
    "        # TODO:  Measure the accuracy \n",
    "        acc[icomp, ifold] = np.mean(yhat == yts)"
   ]
  },
  {
   "cell_type": "markdown",
   "metadata": {},
   "source": [
    "Use the `plt.errorbar` function to plot the mean accuracy with error bars corresponding to the standard error of the accuracy as a function of the number of components.  Find the optimal number of PCs to use according to the normal rule and one SE rule.  If you did it correctly, you should get an accuracy of around 96%."
   ]
  },
  {
   "cell_type": "code",
   "execution_count": 27,
   "metadata": {},
   "outputs": [
    {
     "data": {
      "image/png": "[encoded data removed]",
      "text/plain": [
       "<Figure size 432x288 with 1 Axes>"
      ]
     },
     "metadata": {},
     "output_type": "display_data"
    },
    {
     "name": "stdout",
     "output_type": "stream",
     "text": [
      "The optimal order with the normal rule: 11\n",
      "The optimal order with one SE rule: 7\n"
     ]
    }
   ],
   "source": [
    "# TODO:\n",
    "acc_mean = np.mean(acc,1)\n",
    "acc_se = np.std(acc, 1) / np.sqrt(nfold - 1)\n",
    "plt.errorbar(ncomp_test,acc_mean,acc_se,ecolor='r',color='b',elinewidth=2,capsize=4)\n",
    "plt.xlabel(\"number of components\")\n",
    "plt.ylabel(\"mean accuracy\")\n",
    "plt.grid()\n",
    "plt.show()\n",
    "# TODO:  Optimal order with the normal rule\n",
    "i = np.argmax(acc_mean)\n",
    "opt_order = ncomp_test[i]\n",
    "print(\"The optimal order with the normal rule:\", opt_order)\n",
    "# TODO:  Optimal order with one SE rule\n",
    "acc_tgt = acc_mean[i]-acc_se[i]\n",
    "# print(acc_tgt)\n",
    "index = np.where(acc_mean > acc_tgt)[0][0]\n",
    "opt_order = ncomp_test[index]\n",
    "print(\"The optimal order with one SE rule:\", opt_order)"
   ]
  },
  {
   "cell_type": "markdown",
   "metadata": {},
   "source": [
    "## Hyper-Parameter Optimization with GridCV.\n",
    "\n",
    "We will now try a more complex classifier -- a support vector classifier with a radial basis function.  When we use such a classifer, there will be a number of parameters to tune.  When the number of parameters to tune becomes large, writing a loop over multiple parameters as we did above becomes cumbersome.  The `sklearn` package has a very nice routine, `GridSearchCV` to perform this sort of parameter search.  \n",
    "\n",
    "Before, we do this we need to create an estimator `Pipeline`.  An estimator pipeline is a sequence of transformations followed by an estimator that will operate on the transformed data.  Create the following pipeline:\n",
    "\n",
    "*  Create a `StandardScaler()` object called `scaler` for the first transformation\n",
    "*  Create a `PCA()` object called `pca` for the second transformation\n",
    "*  Create a `SVC()` object called `svc` for the final SVM classifier.  Set the parameter `kernel='rbf'`.\n",
    "\n",
    "Once you have the three steps defined, you can create the pipeline with the command:\n",
    "    \n",
    "    pipe = Pipeline(steps=[('scaler', scaler), ('pca', pca), ('svc', svc)])"
   ]
  },
  {
   "cell_type": "code",
   "execution_count": 28,
   "metadata": {},
   "outputs": [],
   "source": [
    "from sklearn.pipeline import Pipeline\n",
    "from sklearn.model_selection import GridSearchCV\n",
    "from sklearn.svm import SVC\n",
    "\n",
    "# TODO\n",
    "scaler = StandardScaler()\n",
    "pca = PCA()\n",
    "svc = SVC(kernel ='rbf')\n",
    "pipe = Pipeline(steps=[('scaler', scaler), ('pca', pca), ('svc', svc)])"
   ]
  },
  {
   "cell_type": "markdown",
   "metadata": {},
   "source": [
    "We next define all the parameters that we want to search over.  Define the following arrays:\n",
    "\n",
    "*  `ncomp_test`:  values from 3 to 10 representing number of PCs to test\n",
    "*  `C_test`:  values of `C` in the SVC to test.  Use `10^{-2}, 10^{-1}, ... ,10^{3}` \n",
    "*  `gam_test`:  values of `gamma` in the SVC to test.  Use `10^{-3}, 10^{-2}, ... ,10^{1}` "
   ]
  },
  {
   "cell_type": "code",
   "execution_count": 29,
   "metadata": {},
   "outputs": [],
   "source": [
    "# TODO\n",
    "ncomp_test = np.arange(3,11)\n",
    "c_test = 10**np.arange(-2,4, dtype=float)\n",
    "gam_test = 10**np.arange(-3,2, dtype=float)"
   ]
  },
  {
   "cell_type": "markdown",
   "metadata": {},
   "source": [
    "Next, we create a dictionary `params` of the form:\n",
    "\n",
    "    params =  {'pca__n_components': ncomp_test, 'svc__C' : c_test, ...}\n",
    "    \n",
    "Each key in the dictionary is the of the form `estimator__param` and the value is the values to be tested."
   ]
  },
  {
   "cell_type": "code",
   "execution_count": 30,
   "metadata": {},
   "outputs": [],
   "source": [
    "# TODO\n",
    "params = {'pca__n_components': ncomp_test, 'svc__C' : c_test,\"svc__gamma\": gam_test}"
   ]
  },
  {
   "cell_type": "markdown",
   "metadata": {},
   "source": [
    "Finally, an object `estimator = GridSearchCV(...)` from  `pipe` and `params`.  Set `cv=5`, `train_score=True` and `iid=False`.  Fit the estimator from the data `X,y`.  Then the estimator will perform the cross-validation over all the parameters.  This may take a minute since we are search over so many parameters."
   ]
  },
  {
   "cell_type": "code",
   "execution_count": 31,
   "metadata": {},
   "outputs": [
    {
     "data": {
      "text/plain": [
       "GridSearchCV(cv=5, error_score='raise-deprecating',\n",
       "       estimator=Pipeline(memory=None,\n",
       "     steps=[('scaler', StandardScaler(copy=True, with_mean=True, with_std=True)), ('pca', PCA(copy=True, iterated_power='auto', n_components=None, random_state=None,\n",
       "  svd_solver='auto', tol=0.0, whiten=False)), ('svc', SVC(C=1.0, cache_size=200, class_weight=None, coef0=0.0,\n",
       "  decision_function_shape='ovr', degree=3, gamma='auto_deprecated',\n",
       "  kernel='rbf', max_iter=-1, probability=False, random_state=None,\n",
       "  shrinking=True, tol=0.001, verbose=False))]),\n",
       "       fit_params=None, iid=False, n_jobs=None,\n",
       "       param_grid={'pca__n_components': array([ 3,  4,  5,  6,  7,  8,  9, 10]), 'svc__C': array([1.e-02, 1.e-01, 1.e+00, 1.e+01, 1.e+02, 1.e+03]), 'svc__gamma': array([1.e-03, 1.e-02, 1.e-01, 1.e+00, 1.e+01])},\n",
       "       pre_dispatch='2*n_jobs', refit=True, return_train_score=True,\n",
       "       scoring=None, verbose=0)"
      ]
     },
     "execution_count": 31,
     "metadata": {},
     "output_type": "execute_result"
    }
   ],
   "source": [
    "# TODO\n",
    "estimator = GridSearchCV(pipe, params, cv=5, return_train_score=True, iid=False)\n",
    "estimator.fit(X,y)"
   ]
  },
  {
   "cell_type": "markdown",
   "metadata": {},
   "source": [
    "Print the best test score and best parameters.  They are fields in `estimator`.  If you did it correctly, it should be a little higher than the logistic regression (about 0.97 to 0.98 accuracy)."
   ]
  },
  {
   "cell_type": "code",
   "execution_count": 32,
   "metadata": {},
   "outputs": [
    {
     "name": "stdout",
     "output_type": "stream",
     "text": [
      "best test score:  0.978078078078078\n",
      "best paramerter dict: {'pca__n_components': 5, 'svc__C': 1.0, 'svc__gamma': 0.1}\n"
     ]
    }
   ],
   "source": [
    "# TODO\n",
    "print(\"best test score: \", estimator.best_score_)\n",
    "print(\"best paramerter dict:\", estimator.best_params_)"
   ]
  },
  {
   "cell_type": "markdown",
   "metadata": {},
   "source": [
    "Finally, you can get the test score for all the parameter choices from \n",
    "\n",
    "    test_score = estimator.cv_results_['mean_test_score']\n",
    "    \n",
    "Use the `imshow` command to plot the mean test score over `gamma` and `C` for the value `n_components=5`."
   ]
  },
  {
   "cell_type": "code",
   "execution_count": 33,
   "metadata": {},
   "outputs": [
    {
     "data": {
      "image/png": "[encoded data removed]",
      "text/plain": [
       "<Figure size 432x288 with 2 Axes>"
      ]
     },
     "metadata": {},
     "output_type": "display_data"
    }
   ],
   "source": [
    "# TODO\n",
    "test_score = estimator.cv_results_['mean_test_score']\n",
    "sub_test_score = test_score[3*6*5:4*6*5].reshape(6,5)\n",
    "plt.imshow(sub_test_score, cmap=plt.cm.jet)\n",
    "plt.title(\"mean score over gamma and c when n_components={}\".format(5))\n",
    "plt.xlabel(\"gamma\")\n",
    "plt.ylabel(\"C\")\n",
    "plt.colorbar()\n",
    "plt.show()"
   ]
  }
 ],
 "metadata": {
  "kernelspec": {
   "display_name": "Python 3",
   "language": "python",
   "name": "python3"
  },
  "language_info": {
   "codemirror_mode": {
    "name": "ipython",
    "version": 3
   },
   "file_extension": ".py",
   "mimetype": "text/x-python",
   "name": "python",
   "nbconvert_exporter": "python",
   "pygments_lexer": "ipython3",
   "version": "3.5.3"
  }
 },
 "nbformat": 4,
 "nbformat_minor": 2
}
